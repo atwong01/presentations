{
 "cells": [
  {
   "cell_type": "code",
   "execution_count": 192,
   "metadata": {
    "collapsed": false
   },
   "outputs": [],
   "source": [
    "from pyspark import SparkContext\n",
    "from pyspark.mllib.feature import Word2Vec\n",
    "from pyspark.sql import HiveContext\n",
    "\n",
    "sentences = sc.textFile(\"practice_fusion/sentences_nlp\").map(lambda row: row.split(\" \"))\n",
    "word2vec = Word2Vec()\n",
    "word2vec.setSeed(0)\n",
    "word2vec.setVectorSize(100)\n",
    "model = word2vec.fit(sentences)"
   ]
  },
  {
   "cell_type": "code",
   "execution_count": 193,
   "metadata": {
    "collapsed": true
   },
   "outputs": [],
   "source": [
    "def normalize_icd9(icd9):\n",
    "    first_part = icd9[0:3].lower()\n",
    "    second_part = icd9[3:]\n",
    "    if len(second_part) > 0:\n",
    "        return first_part + '.' + second_part\n",
    "    else:\n",
    "        return first_part\n",
    "    \n",
    "def read_diag_map():\n",
    "    ret = {}\n",
    "    with open('/root/clinical2vec/CMS32_DESC_LONG_DX.txt') as f:\n",
    "        content = f.readlines()\n",
    "    for line in content:\n",
    "        key = normalize_icd9(line[0:6].strip())\n",
    "        value = line[6:].strip()\n",
    "        ret[key] = value\n",
    "    return ret\n",
    "\n",
    "\n",
    "diag_map = read_diag_map()\n",
    "\n",
    "def pretty_print(concept):\n",
    "    tokens = concept.split('::')\n",
    "    if tokens[0] == 'dx':\n",
    "        diag = tokens[1]\n",
    "        if diag[-1] == '.':\n",
    "            diag = diag[0:len(diag) - 1]\n",
    "        try:\n",
    "            return 'dx: {} -- {}'.format(diag, diag_map[diag])\n",
    "        except KeyError:\n",
    "            if '.' not in diag:\n",
    "                first_try = pretty_print('dx::' + diag + '.0')\n",
    "                if first_try.startswith('dx::'):\n",
    "                    return pretty_print('dx::' + diag + '.00')\n",
    "                else:\n",
    "                    return first_try\n",
    "            else:\n",
    "                if diag.endswith('00'):\n",
    "                    return concept\n",
    "                else:\n",
    "                    return pretty_print('dx::' + diag + '0')\n",
    "    else:\n",
    "        return concept\n",
    "\n",
    "    \n",
    "def print_synonyms_filt(clinical_concept, model, prefix):\n",
    "    synonyms = model.findSynonyms(clinical_concept, 10000)\n",
    "    i = 0\n",
    "    for word, cosine_distance in synonyms:\n",
    "        if prefix is None or word.startswith(prefix):\n",
    "            print \"{}: {}\".format(cosine_distance, pretty_print(word))\n",
    "            i = i+1\n",
    "        if i > 10:\n",
    "            return\n",
    "\n",
    "def print_synonyms(clinical_concept, model):\n",
    "    print_synonyms_filt(clinical_concept, model, None)"
   ]
  },
  {
   "cell_type": "markdown",
   "metadata": {},
   "source": [
    "#Atherosclerosis of the Aorta\n",
    "\n",
    "Also known as heart disease or hardening of the arteries.  This disease is the number one killer of Americans.  "
   ]
  },
  {
   "cell_type": "code",
   "execution_count": 200,
   "metadata": {
    "collapsed": false
   },
   "outputs": [
    {
     "name": "stdout",
     "output_type": "stream",
     "text": [
      "0.930721402168: dx: v12.71 -- Personal history of peptic ulcer disease\n",
      "0.926115810871: dx: 533.40 -- Chronic or unspecified peptic ulcer of unspecified site with hemorrhage, without mention of obstruction\n",
      "0.91034334898: dx: 153.6 -- Malignant neoplasm of ascending colon\n",
      "0.90947073698: dx: 238.75 -- Myelodysplastic syndrome, unspecified\n",
      "0.907130658627: dx: 389.10 -- Sensorineural hearing loss, unspecified\n",
      "0.90490090847: dx: 428.30 -- Diastolic heart failure, unspecified\n",
      "0.902494549751: dx: v43.65 -- Knee joint replacement\n",
      "0.898817896843: dx: 396.2 -- Mitral valve insufficiency and aortic valve stenosis\n",
      "0.89858096838: dx: 433.10 -- Occlusion and stenosis of carotid artery without mention of cerebral infarction\n",
      "0.890106379986: dx: 405.11 -- Benign renovascular hypertension\n",
      "0.889486372471: dx: 433.10 -- Occlusion and stenosis of carotid artery without mention of cerebral infarction\n"
     ]
    }
   ],
   "source": [
    "print_synonyms('dx::440.0', model)"
   ]
  },
  {
   "cell_type": "markdown",
   "metadata": {},
   "source": [
    "###Peptic Ulcers\n",
    "\n",
    "There have been long-standing connections noticed between ulcers and atherosclerosis.  Partiaully due to smokers having a higher than average incidence of peptic ulcers and atherosclerosis.  You can see an [editorial](http://www.ncbi.nlm.nih.gov/pmc/articles/PMC1611891/) in the British Medical Journal all the way back in the 1970's discussing this.\n",
    "\n",
    "###Hearing Loss\n",
    "\n",
    "From an [article](http://www.ncbi.nlm.nih.gov/pubmed/23102449) from the Journal of Atherosclerosis in 2012:\n",
    "> Sensorineural hearing loss seemed to be associated with vascular endothelial dysfunction and an increased cardiovascular risk\n",
    "\n",
    "\n",
    "###Knee Joint Replacements\n",
    "\n",
    "These procedures are common among those with osteoarthritis and there has been a solid correlation between osteoarthritis and atherosclerosis in [the](http://www.ncbi.nlm.nih.gov/pubmed/22563029) [literature](http://www.ncbi.nlm.nih.gov/pmc/articles/PMC3196360/).\n",
    "\n"
   ]
  },
  {
   "cell_type": "markdown",
   "metadata": {},
   "source": [
    "#Crohn's Disease\n",
    "\n",
    "Crohn's disease is a type of inflammatory bowel disease that is caused by a combination of environmental, immune and bacterial factors.  Let's see if we can recover some of these connections from the data."
   ]
  },
  {
   "cell_type": "code",
   "execution_count": 194,
   "metadata": {
    "collapsed": false
   },
   "outputs": [
    {
     "name": "stdout",
     "output_type": "stream",
     "text": [
      "0.870913982391: dx: 274.03 -- Chronic gouty arthropathy with tophus (tophi)\n",
      "0.869603157043: dx: 522.5 -- Periapical abscess without sinus\n",
      "0.863405406475: dx: 579.3 -- Other and unspecified postsurgical nonabsorption\n",
      "0.859003782272: dx: 135 -- Sarcoidosis\n",
      "0.85546463728: dx: 112.3 -- Candidiasis of skin and nails\n",
      "0.853841125965: dx: v16.42 -- Family history of malignant neoplasm of prostate\n",
      "0.852528512478: dx: 478.8 -- Upper respiratory tract hypersensitivity reaction, site unspecified\n",
      "0.850185573101: dx::287.400\n",
      "0.849603950977: dx: 339.10 -- Tension type headache, unspecified\n",
      "0.848721027374: dx: 728.0 -- Infective myositis\n",
      "0.84819817543: dx: 786.51 -- Precordial pain\n"
     ]
    }
   ],
   "source": [
    "#Crohn's Disease\n",
    "print_synonyms('dx::555.9', model)"
   ]
  },
  {
   "cell_type": "markdown",
   "metadata": {},
   "source": [
    "###Arthritis\n",
    "From the [Crohn's and Colitis Foundation of America](http://www.ccfa.org/resources/arthritis.html):\n",
    ">Arthritis, or inflammation of the joints, is the most common extraintestinal complication of IBD. It may affect as many as 25% of people with Crohn’s disease or ulcerative colitis. Although arthritis is typically associated with advancing age, in IBD it often strikes the youngest patients.\n",
    "\n",
    "###Dental Abscesses\n",
    "While not much medical literature exists with a specific link to dental abscesses and Crohn's (there are general oral issues noticed [here](http://www.ncbi.nlm.nih.gov/pmc/articles/PMC1410927/)), you do see lengthy discussions on the Crohn's [forums](http://www.crohnsforum.com/showthread.php?t=37075) about abscesses being a common occurance with Crohn's.\n",
    "\n",
    "###Yeast Infections\n",
    "\n",
    "Candidiasis of skin and nails is a form of yeast infection on the skin. From the journal \"Critical Review of Microbiology\" [here](http://www.ncbi.nlm.nih.gov/pubmed/23855357).\n",
    ">It is widely accepted that Candidia could result from an inappropriate inflammatory response to intestinal microorganisms in a genetically susceptible host. Most studies to date have concerned the involvement of bacteria in disease progression. In addition to bacteria, there appears to be a possible link between the commensal yeast Candida albicans and disease development.\n"
   ]
  },
  {
   "cell_type": "markdown",
   "metadata": {},
   "source": [
    "##Drugs associated with HIV/AIDS\n",
    "\n",
    "The notion of a 'synonym' can also find connections between clinical data types.  Here we look for the drugs most associated with HIV/AIDS"
   ]
  },
  {
   "cell_type": "code",
   "execution_count": 195,
   "metadata": {
    "collapsed": false
   },
   "outputs": [
    {
     "name": "stdout",
     "output_type": "stream",
     "text": [
      "0.510371923447: rx::efavirenz/emtricitabine/tenofovir\n",
      "0.40061840415: rx::benzoyl_peroxide_topical\n",
      "0.36375400424: rx::morphine\n",
      "0.354891896248: rx::emollients,_topical\n",
      "0.350577175617: rx::ziconotide\n",
      "0.347965329885: rx::scopolamine\n",
      "0.34552615881: rx::tobramycin\n",
      "0.342438489199: rx::oxycodone\n",
      "0.337265789509: rx::fentanyl\n",
      "0.331533819437: rx::tizanidine\n",
      "0.330983161926: rx::apap/butalbital/caffeine/codeine\n"
     ]
    }
   ],
   "source": [
    "print_synonyms_filt('dx::042', model, 'rx')"
   ]
  },
  {
   "cell_type": "markdown",
   "metadata": {},
   "source": [
    "From the list above, we see\n",
    "* The sets of anti-retrovirals that are commonly used to treat HIV. \n",
    "* Benzoyl peroxide and topical emollients, used to treat the skin issues that are effects of the medication to treat HIV\n",
    "* A selection of pain relievers"
   ]
  }
 ],
 "metadata": {
  "kernelspec": {
   "display_name": "Python 2",
   "language": "python",
   "name": "python2"
  },
  "language_info": {
   "codemirror_mode": {
    "name": "ipython",
    "version": 2
   },
   "file_extension": ".py",
   "mimetype": "text/x-python",
   "name": "python",
   "nbconvert_exporter": "python",
   "pygments_lexer": "ipython2",
   "version": "2.7.6"
  }
 },
 "nbformat": 4,
 "nbformat_minor": 0
}
